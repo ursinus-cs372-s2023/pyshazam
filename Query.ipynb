{
 "cells": [
  {
   "cell_type": "markdown",
   "id": "ac77d423",
   "metadata": {},
   "source": [
    "# Query\n",
    "\n",
    "Query against the shazam database using two different methods.  More info at <a href = \"https://ursinus-cs174-s2022.github.io/CoursePage/Assignments/FinalProject_Shazam/background.html\">this link</a>"
   ]
  },
  {
   "cell_type": "code",
   "execution_count": null,
   "id": "babcd8f0",
   "metadata": {},
   "outputs": [],
   "source": [
    "%matplotlib notebook\n",
    "%load_ext autoreload\n",
    "%autoreload 2\n",
    "import IPython.display as ipd\n",
    "from collections import defaultdict\n",
    "import numpy as np\n",
    "import matplotlib.pyplot as plt\n",
    "from scipy.io import wavfile\n",
    "import pickle\n",
    "from urllib.request import urlopen\n",
    "from dsp import *"
   ]
  },
  {
   "cell_type": "code",
   "execution_count": null,
   "id": "cf119128",
   "metadata": {},
   "outputs": [],
   "source": [
    "# STFT Parameters\n",
    "win = 1024\n",
    "hop = 512\n",
    "\n",
    "# Constellation Parameters\n",
    "max_freq = 128\n",
    "freq_win = 8\n",
    "time_win = 6\n",
    "thresh = 1e3\n",
    "\n",
    "# Fingerprint Parameters\n",
    "d_center = 86\n",
    "width = 50\n",
    "height = 21\n",
    "\n",
    "# Uncomment if you're not on the Ursinus network\n",
    "#database_url = \"https://ctralieteaching.s3.amazonaws.com/Ursinus-CS372/shazam-database.pkl\"\n",
    "\n",
    "\n",
    "database_url = \"http://mathcs.ursinus.edu/shazam-database.pkl\"\n",
    "\n",
    "# key: Fingerprint hash\n",
    "# value: {\"name\":string, \"offset\":int}\n",
    "fingerprints = defaultdict(lambda: [])\n",
    "data = pickle.load(urlopen(database_url))"
   ]
  },
  {
   "cell_type": "code",
   "execution_count": null,
   "id": "a441a5ab",
   "metadata": {},
   "outputs": [],
   "source": [
    "for tune in data:\n",
    "    (hashes, offsets) = tune[\"fingerprints\"]\n",
    "    print(tune[\"artist\"], tune[\"title\"])\n",
    "    for h, o in zip(hashes, offsets):\n",
    "        fingerprints[h].append(dict(\n",
    "            name = \"{} - {}\".format(tune[\"artist\"], tune[\"title\"]),\n",
    "            offset = int(o)\n",
    "        ))"
   ]
  },
  {
   "cell_type": "code",
   "execution_count": null,
   "id": "a9a5baff",
   "metadata": {},
   "outputs": [],
   "source": [
    "sr, x = wavfile.read(\"ExampleQueries/baddayClean.wav\")\n",
    "## Step 1: Compute STFT\n",
    "S = np.abs(stft(x, win, hop))\n",
    "## Step 2: Get constellations\n",
    "I, J = get_constellation(S, freq_win, time_win, max_freq, thresh)\n",
    "I = np.array(I, dtype=int)\n",
    "J = np.array(J, dtype=int)\n",
    "## Step 3: Get fingerprints\n",
    "hashes, offsets = get_fingerprints(I, J, width, height, d_center)\n",
    "ipd.Audio(x, rate=sr)"
   ]
  },
  {
   "cell_type": "markdown",
   "id": "b3d9060e",
   "metadata": {},
   "source": [
    "## Method 1\n",
    "Keep track of the tunes that have fingerprints in common, and count how many fingerprints are in common with each tune"
   ]
  },
  {
   "cell_type": "code",
   "execution_count": null,
   "id": "3d58a63f",
   "metadata": {},
   "outputs": [],
   "source": [
    "## TODO: Fill this in"
   ]
  },
  {
   "cell_type": "markdown",
   "id": "a24a41a5",
   "metadata": {},
   "source": [
    "# Method 2\n",
    "\n",
    "Compute offset histograms for each tune in common"
   ]
  },
  {
   "cell_type": "code",
   "execution_count": null,
   "id": "845294ae",
   "metadata": {},
   "outputs": [],
   "source": [
    "## TODO: Fill this in"
   ]
  }
 ],
 "metadata": {
  "kernelspec": {
   "display_name": "Python 3 (ipykernel)",
   "language": "python",
   "name": "python3"
  },
  "language_info": {
   "codemirror_mode": {
    "name": "ipython",
    "version": 3
   },
   "file_extension": ".py",
   "mimetype": "text/x-python",
   "name": "python",
   "nbconvert_exporter": "python",
   "pygments_lexer": "ipython3",
   "version": "3.9.13"
  }
 },
 "nbformat": 4,
 "nbformat_minor": 5
}
